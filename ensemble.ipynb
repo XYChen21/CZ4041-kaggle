{
 "cells": [
  {
   "cell_type": "code",
   "execution_count": 2,
   "id": "65beab49",
   "metadata": {
    "ExecuteTime": {
     "end_time": "2023-11-06T16:04:11.465174Z",
     "start_time": "2023-11-06T16:04:10.854888Z"
    }
   },
   "outputs": [],
   "source": [
    "import pandas as pd\n",
    "import numpy as np"
   ]
  },
  {
   "cell_type": "code",
   "execution_count": 5,
   "id": "0342d78f",
   "metadata": {
    "ExecuteTime": {
     "end_time": "2023-11-06T16:06:07.753780Z",
     "start_time": "2023-11-06T16:06:07.736548Z"
    }
   },
   "outputs": [
    {
     "data": {
      "text/plain": [
       "['loss1_0.772.csv',\n",
       " 'vit_randomtune2_4.ipynb',\n",
       " 'loss3_0.861.csv',\n",
       " 'vit_finetune_2.ipynb',\n",
       " '.DS_Store',\n",
       " 'acc1_0.772.csv',\n",
       " 'Untitled.ipynb',\n",
       " 'vit_randomtune_3.ipynb',\n",
       " 'README.md',\n",
       " 'loss4_0.878.csv',\n",
       " 'acc4_0.895.csv',\n",
       " 'loss2_0.841.csv',\n",
       " 'acc2_0.841.csv',\n",
       " 'acc3_0.846.csv',\n",
       " '.ipynb_checkpoints',\n",
       " '.git',\n",
       " 'loss5_0.852.csv',\n",
       " 'vit_fixed_1.ipynb',\n",
       " 'acc5_0.851.csv',\n",
       " 'vitcnn_attnpool_5.ipynb']"
      ]
     },
     "execution_count": 5,
     "metadata": {},
     "output_type": "execute_result"
    }
   ],
   "source": [
    "import os\n",
    "os.listdir()"
   ]
  },
  {
   "cell_type": "code",
   "execution_count": 15,
   "id": "58b33a5c",
   "metadata": {
    "ExecuteTime": {
     "end_time": "2023-11-06T16:11:42.910002Z",
     "start_time": "2023-11-06T16:11:42.808180Z"
    }
   },
   "outputs": [],
   "source": [
    "# df1 = pd.read_csv('loss1_0.772.csv')\n",
    "df2 = pd.read_csv('loss2_0.841.csv')\n",
    "df3 = pd.read_csv('loss3_0.861.csv')\n",
    "df4 = pd.read_csv('loss4_0.878.csv')\n",
    "df5 = pd.read_csv('loss5_0.852.csv')\n",
    "# df6 = pd.read_csv('acc1_0.772.csv')\n",
    "df7 = pd.read_csv('acc2_0.841.csv')\n",
    "df8 = pd.read_csv('acc3_0.846.csv')\n",
    "df9 = pd.read_csv('acc4_0.895.csv')\n",
    "df10 = pd.read_csv('acc5_0.851.csv')\n",
    "vgg = pd.read_csv('vgg_score.csv')\n",
    "mix = pd.read_csv('mix.csv')"
   ]
  },
  {
   "cell_type": "code",
   "execution_count": 160,
   "id": "d70a125a",
   "metadata": {
    "ExecuteTime": {
     "end_time": "2023-11-06T17:37:21.480939Z",
     "start_time": "2023-11-06T17:37:21.413089Z"
    }
   },
   "outputs": [],
   "source": [
    "s = pd.concat([df2[['is_related']], df3[['is_related']],\n",
    "               df5[['is_related']], df7[['is_related']], df8[['is_related']], \n",
    "            df10[['is_related']]], axis=1)"
   ]
  },
  {
   "cell_type": "code",
   "execution_count": 161,
   "id": "045b8789",
   "metadata": {
    "ExecuteTime": {
     "end_time": "2023-11-06T17:37:21.988761Z",
     "start_time": "2023-11-06T17:37:21.967093Z"
    }
   },
   "outputs": [],
   "source": [
    "s['mean'] = s.mean(axis=1)"
   ]
  },
  {
   "cell_type": "code",
   "execution_count": 162,
   "id": "dc460480",
   "metadata": {
    "ExecuteTime": {
     "end_time": "2023-11-06T17:37:25.207699Z",
     "start_time": "2023-11-06T17:37:25.199890Z"
    }
   },
   "outputs": [],
   "source": [
    "df9 = df9.rename(columns={'is_related':'is_related2'})"
   ]
  },
  {
   "cell_type": "code",
   "execution_count": 164,
   "id": "fb1b377e",
   "metadata": {
    "ExecuteTime": {
     "end_time": "2023-11-06T17:38:31.404660Z",
     "start_time": "2023-11-06T17:38:31.383690Z"
    }
   },
   "outputs": [],
   "source": [
    "final = pd.read_csv('final.csv')\n",
    "final = final.rename(columns={'is_related':'is_related_cnn'})"
   ]
  },
  {
   "cell_type": "code",
   "execution_count": 165,
   "id": "630cb906",
   "metadata": {
    "ExecuteTime": {
     "end_time": "2023-11-06T17:38:37.027438Z",
     "start_time": "2023-11-06T17:38:37.010484Z"
    }
   },
   "outputs": [],
   "source": [
    "s1 = pd.concat([df4[['is_related']], df9[['is_related2']],\n",
    "               s[['mean']], final['is_related_cnn']], axis=1)"
   ]
  },
  {
   "cell_type": "code",
   "execution_count": 166,
   "id": "48959fa7",
   "metadata": {
    "ExecuteTime": {
     "end_time": "2023-11-06T17:38:37.906674Z",
     "start_time": "2023-11-06T17:38:37.891885Z"
    }
   },
   "outputs": [
    {
     "data": {
      "text/html": [
       "<div>\n",
       "<style scoped>\n",
       "    .dataframe tbody tr th:only-of-type {\n",
       "        vertical-align: middle;\n",
       "    }\n",
       "\n",
       "    .dataframe tbody tr th {\n",
       "        vertical-align: top;\n",
       "    }\n",
       "\n",
       "    .dataframe thead th {\n",
       "        text-align: right;\n",
       "    }\n",
       "</style>\n",
       "<table border=\"1\" class=\"dataframe\">\n",
       "  <thead>\n",
       "    <tr style=\"text-align: right;\">\n",
       "      <th></th>\n",
       "      <th>is_related</th>\n",
       "      <th>is_related2</th>\n",
       "      <th>mean</th>\n",
       "      <th>is_related_cnn</th>\n",
       "    </tr>\n",
       "  </thead>\n",
       "  <tbody>\n",
       "    <tr>\n",
       "      <th>0</th>\n",
       "      <td>0.000077</td>\n",
       "      <td>0.004134</td>\n",
       "      <td>0.028226</td>\n",
       "      <td>0.214915</td>\n",
       "    </tr>\n",
       "    <tr>\n",
       "      <th>1</th>\n",
       "      <td>0.914750</td>\n",
       "      <td>0.978751</td>\n",
       "      <td>0.811449</td>\n",
       "      <td>1.612945</td>\n",
       "    </tr>\n",
       "    <tr>\n",
       "      <th>2</th>\n",
       "      <td>0.837950</td>\n",
       "      <td>0.873769</td>\n",
       "      <td>0.867037</td>\n",
       "      <td>1.477820</td>\n",
       "    </tr>\n",
       "    <tr>\n",
       "      <th>3</th>\n",
       "      <td>0.928070</td>\n",
       "      <td>0.866203</td>\n",
       "      <td>0.842229</td>\n",
       "      <td>1.628632</td>\n",
       "    </tr>\n",
       "    <tr>\n",
       "      <th>4</th>\n",
       "      <td>0.710317</td>\n",
       "      <td>0.627912</td>\n",
       "      <td>0.311287</td>\n",
       "      <td>0.678998</td>\n",
       "    </tr>\n",
       "    <tr>\n",
       "      <th>...</th>\n",
       "      <td>...</td>\n",
       "      <td>...</td>\n",
       "      <td>...</td>\n",
       "      <td>...</td>\n",
       "    </tr>\n",
       "    <tr>\n",
       "      <th>5305</th>\n",
       "      <td>0.255543</td>\n",
       "      <td>0.060701</td>\n",
       "      <td>0.337632</td>\n",
       "      <td>0.923429</td>\n",
       "    </tr>\n",
       "    <tr>\n",
       "      <th>5306</th>\n",
       "      <td>0.247853</td>\n",
       "      <td>0.450595</td>\n",
       "      <td>0.596741</td>\n",
       "      <td>0.833313</td>\n",
       "    </tr>\n",
       "    <tr>\n",
       "      <th>5307</th>\n",
       "      <td>0.571609</td>\n",
       "      <td>0.626112</td>\n",
       "      <td>0.495375</td>\n",
       "      <td>1.010143</td>\n",
       "    </tr>\n",
       "    <tr>\n",
       "      <th>5308</th>\n",
       "      <td>0.312606</td>\n",
       "      <td>0.390678</td>\n",
       "      <td>0.453619</td>\n",
       "      <td>1.292483</td>\n",
       "    </tr>\n",
       "    <tr>\n",
       "      <th>5309</th>\n",
       "      <td>0.073175</td>\n",
       "      <td>0.145491</td>\n",
       "      <td>0.376563</td>\n",
       "      <td>0.802952</td>\n",
       "    </tr>\n",
       "  </tbody>\n",
       "</table>\n",
       "<p>5310 rows × 4 columns</p>\n",
       "</div>"
      ],
      "text/plain": [
       "      is_related  is_related2      mean  is_related_cnn\n",
       "0       0.000077     0.004134  0.028226        0.214915\n",
       "1       0.914750     0.978751  0.811449        1.612945\n",
       "2       0.837950     0.873769  0.867037        1.477820\n",
       "3       0.928070     0.866203  0.842229        1.628632\n",
       "4       0.710317     0.627912  0.311287        0.678998\n",
       "...          ...          ...       ...             ...\n",
       "5305    0.255543     0.060701  0.337632        0.923429\n",
       "5306    0.247853     0.450595  0.596741        0.833313\n",
       "5307    0.571609     0.626112  0.495375        1.010143\n",
       "5308    0.312606     0.390678  0.453619        1.292483\n",
       "5309    0.073175     0.145491  0.376563        0.802952\n",
       "\n",
       "[5310 rows x 4 columns]"
      ]
     },
     "execution_count": 166,
     "metadata": {},
     "output_type": "execute_result"
    }
   ],
   "source": [
    "s1"
   ]
  },
  {
   "cell_type": "code",
   "execution_count": 41,
   "id": "8a11b1dc",
   "metadata": {
    "ExecuteTime": {
     "end_time": "2023-11-06T16:51:03.757900Z",
     "start_time": "2023-11-06T16:51:03.751764Z"
    }
   },
   "outputs": [
    {
     "data": {
      "text/plain": [
       "0.3373539389370524"
      ]
     },
     "execution_count": 41,
     "metadata": {},
     "output_type": "execute_result"
    }
   ],
   "source": [
    "0.895/(0.878+0.88+0.895)"
   ]
  },
  {
   "cell_type": "code",
   "execution_count": 156,
   "id": "2aca8f3d",
   "metadata": {
    "ExecuteTime": {
     "end_time": "2023-11-06T17:10:16.777944Z",
     "start_time": "2023-11-06T17:10:16.772556Z"
    }
   },
   "outputs": [],
   "source": [
    "s1['mean2'] = s1['is_related']*0.6 + s1['mean']*0.4\n",
    "# 0.878 * 0.6 + mean rest * 0.4"
   ]
  },
  {
   "cell_type": "code",
   "execution_count": 191,
   "id": "a3aa4544",
   "metadata": {
    "ExecuteTime": {
     "end_time": "2023-11-06T17:44:18.252731Z",
     "start_time": "2023-11-06T17:44:18.247474Z"
    }
   },
   "outputs": [],
   "source": [
    "s1['mean2'] = s1['is_related']*0.6 + s1['is_related_cnn']*0.4"
   ]
  },
  {
   "cell_type": "code",
   "execution_count": 192,
   "id": "fcfc455e",
   "metadata": {
    "ExecuteTime": {
     "end_time": "2023-11-06T17:44:18.488118Z",
     "start_time": "2023-11-06T17:44:18.480317Z"
    }
   },
   "outputs": [],
   "source": [
    "s_new = df1.copy()\n",
    "s_new['mean'] = s1['mean2']\n",
    "s_new=s_new.drop(columns=['is_related'])\n",
    "s_new=s_new.rename(columns={'mean':'is_related'})"
   ]
  },
  {
   "cell_type": "code",
   "execution_count": 193,
   "id": "6792e51d",
   "metadata": {
    "ExecuteTime": {
     "end_time": "2023-11-06T17:44:18.813057Z",
     "start_time": "2023-11-06T17:44:18.802870Z"
    }
   },
   "outputs": [
    {
     "data": {
      "text/html": [
       "<div>\n",
       "<style scoped>\n",
       "    .dataframe tbody tr th:only-of-type {\n",
       "        vertical-align: middle;\n",
       "    }\n",
       "\n",
       "    .dataframe tbody tr th {\n",
       "        vertical-align: top;\n",
       "    }\n",
       "\n",
       "    .dataframe thead th {\n",
       "        text-align: right;\n",
       "    }\n",
       "</style>\n",
       "<table border=\"1\" class=\"dataframe\">\n",
       "  <thead>\n",
       "    <tr style=\"text-align: right;\">\n",
       "      <th></th>\n",
       "      <th>img_pair</th>\n",
       "      <th>is_related</th>\n",
       "    </tr>\n",
       "  </thead>\n",
       "  <tbody>\n",
       "    <tr>\n",
       "      <th>0</th>\n",
       "      <td>face05508.jpg-face01210.jpg</td>\n",
       "      <td>0.086012</td>\n",
       "    </tr>\n",
       "    <tr>\n",
       "      <th>1</th>\n",
       "      <td>face05750.jpg-face00898.jpg</td>\n",
       "      <td>1.194028</td>\n",
       "    </tr>\n",
       "    <tr>\n",
       "      <th>2</th>\n",
       "      <td>face05820.jpg-face03938.jpg</td>\n",
       "      <td>1.093898</td>\n",
       "    </tr>\n",
       "    <tr>\n",
       "      <th>3</th>\n",
       "      <td>face02104.jpg-face01172.jpg</td>\n",
       "      <td>1.208295</td>\n",
       "    </tr>\n",
       "    <tr>\n",
       "      <th>4</th>\n",
       "      <td>face02428.jpg-face05611.jpg</td>\n",
       "      <td>0.697789</td>\n",
       "    </tr>\n",
       "    <tr>\n",
       "      <th>...</th>\n",
       "      <td>...</td>\n",
       "      <td>...</td>\n",
       "    </tr>\n",
       "    <tr>\n",
       "      <th>5305</th>\n",
       "      <td>face99998.jpg-face99993.jpg</td>\n",
       "      <td>0.522697</td>\n",
       "    </tr>\n",
       "    <tr>\n",
       "      <th>5306</th>\n",
       "      <td>face99997.jpg-face99996.jpg</td>\n",
       "      <td>0.482037</td>\n",
       "    </tr>\n",
       "    <tr>\n",
       "      <th>5307</th>\n",
       "      <td>face99997.jpg-face99995.jpg</td>\n",
       "      <td>0.747023</td>\n",
       "    </tr>\n",
       "    <tr>\n",
       "      <th>5308</th>\n",
       "      <td>face99997.jpg-face99994.jpg</td>\n",
       "      <td>0.704557</td>\n",
       "    </tr>\n",
       "    <tr>\n",
       "      <th>5309</th>\n",
       "      <td>face99997.jpg-face99993.jpg</td>\n",
       "      <td>0.365086</td>\n",
       "    </tr>\n",
       "  </tbody>\n",
       "</table>\n",
       "<p>5310 rows × 2 columns</p>\n",
       "</div>"
      ],
      "text/plain": [
       "                         img_pair  is_related\n",
       "0     face05508.jpg-face01210.jpg    0.086012\n",
       "1     face05750.jpg-face00898.jpg    1.194028\n",
       "2     face05820.jpg-face03938.jpg    1.093898\n",
       "3     face02104.jpg-face01172.jpg    1.208295\n",
       "4     face02428.jpg-face05611.jpg    0.697789\n",
       "...                           ...         ...\n",
       "5305  face99998.jpg-face99993.jpg    0.522697\n",
       "5306  face99997.jpg-face99996.jpg    0.482037\n",
       "5307  face99997.jpg-face99995.jpg    0.747023\n",
       "5308  face99997.jpg-face99994.jpg    0.704557\n",
       "5309  face99997.jpg-face99993.jpg    0.365086\n",
       "\n",
       "[5310 rows x 2 columns]"
      ]
     },
     "execution_count": 193,
     "metadata": {},
     "output_type": "execute_result"
    }
   ],
   "source": [
    "s_new"
   ]
  },
  {
   "cell_type": "code",
   "execution_count": 194,
   "id": "881c5424",
   "metadata": {
    "ExecuteTime": {
     "end_time": "2023-11-06T17:44:19.004160Z",
     "start_time": "2023-11-06T17:44:18.972720Z"
    }
   },
   "outputs": [],
   "source": [
    "s_new.to_csv('ensemble.csv', index=False)"
   ]
  },
  {
   "cell_type": "code",
   "execution_count": null,
   "id": "45595ff0",
   "metadata": {},
   "outputs": [],
   "source": []
  },
  {
   "cell_type": "code",
   "execution_count": null,
   "id": "48320c24",
   "metadata": {},
   "outputs": [],
   "source": []
  },
  {
   "cell_type": "code",
   "execution_count": null,
   "id": "0f340641",
   "metadata": {},
   "outputs": [],
   "source": []
  }
 ],
 "metadata": {
  "kernelspec": {
   "display_name": "Python 3 (ipykernel)",
   "language": "python",
   "name": "python3"
  },
  "language_info": {
   "codemirror_mode": {
    "name": "ipython",
    "version": 3
   },
   "file_extension": ".py",
   "mimetype": "text/x-python",
   "name": "python",
   "nbconvert_exporter": "python",
   "pygments_lexer": "ipython3",
   "version": "3.11.3"
  }
 },
 "nbformat": 4,
 "nbformat_minor": 5
}
