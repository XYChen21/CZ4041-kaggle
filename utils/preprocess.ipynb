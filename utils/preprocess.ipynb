{
 "cells": [
  {
   "cell_type": "code",
   "execution_count": 2,
   "metadata": {},
   "outputs": [],
   "source": [
    "import os\n",
    "import itertools\n",
    "import pandas as pd"
   ]
  },
  {
   "cell_type": "code",
   "execution_count": 3,
   "metadata": {},
   "outputs": [],
   "source": [
    "root_dir = \"d:/Coding/CZ4041/CZ4041-kaggle\" # Set appropriate directory\n",
    "os.chdir(root_dir)"
   ]
  },
  {
   "cell_type": "markdown",
   "metadata": {},
   "source": [
    "### Processing Train Relationships\n",
    "\n",
    "This will effectively serve as our annotations."
   ]
  },
  {
   "cell_type": "code",
   "execution_count": 28,
   "metadata": {},
   "outputs": [
    {
     "data": {
      "text/html": [
       "<div>\n",
       "<style scoped>\n",
       "    .dataframe tbody tr th:only-of-type {\n",
       "        vertical-align: middle;\n",
       "    }\n",
       "\n",
       "    .dataframe tbody tr th {\n",
       "        vertical-align: top;\n",
       "    }\n",
       "\n",
       "    .dataframe thead th {\n",
       "        text-align: right;\n",
       "    }\n",
       "</style>\n",
       "<table border=\"1\" class=\"dataframe\">\n",
       "  <thead>\n",
       "    <tr style=\"text-align: right;\">\n",
       "      <th></th>\n",
       "      <th>p1</th>\n",
       "      <th>p2</th>\n",
       "    </tr>\n",
       "  </thead>\n",
       "  <tbody>\n",
       "    <tr>\n",
       "      <th>0</th>\n",
       "      <td>F0002/MID1</td>\n",
       "      <td>F0002/MID3</td>\n",
       "    </tr>\n",
       "    <tr>\n",
       "      <th>1</th>\n",
       "      <td>F0002/MID2</td>\n",
       "      <td>F0002/MID3</td>\n",
       "    </tr>\n",
       "    <tr>\n",
       "      <th>2</th>\n",
       "      <td>F0005/MID1</td>\n",
       "      <td>F0005/MID2</td>\n",
       "    </tr>\n",
       "    <tr>\n",
       "      <th>3</th>\n",
       "      <td>F0005/MID3</td>\n",
       "      <td>F0005/MID2</td>\n",
       "    </tr>\n",
       "    <tr>\n",
       "      <th>4</th>\n",
       "      <td>F0009/MID1</td>\n",
       "      <td>F0009/MID4</td>\n",
       "    </tr>\n",
       "  </tbody>\n",
       "</table>\n",
       "</div>"
      ],
      "text/plain": [
       "           p1          p2\n",
       "0  F0002/MID1  F0002/MID3\n",
       "1  F0002/MID2  F0002/MID3\n",
       "2  F0005/MID1  F0005/MID2\n",
       "3  F0005/MID3  F0005/MID2\n",
       "4  F0009/MID1  F0009/MID4"
      ]
     },
     "execution_count": 28,
     "metadata": {},
     "output_type": "execute_result"
    }
   ],
   "source": [
    "df = pd.read_csv(\"./data/train-relationships/train_relationships.csv\")\n",
    "df.head()"
   ]
  },
  {
   "cell_type": "markdown",
   "metadata": {},
   "source": [
    "Splitting path into 2 columns."
   ]
  },
  {
   "cell_type": "code",
   "execution_count": 29,
   "metadata": {},
   "outputs": [
    {
     "data": {
      "text/html": [
       "<div>\n",
       "<style scoped>\n",
       "    .dataframe tbody tr th:only-of-type {\n",
       "        vertical-align: middle;\n",
       "    }\n",
       "\n",
       "    .dataframe tbody tr th {\n",
       "        vertical-align: top;\n",
       "    }\n",
       "\n",
       "    .dataframe thead th {\n",
       "        text-align: right;\n",
       "    }\n",
       "</style>\n",
       "<table border=\"1\" class=\"dataframe\">\n",
       "  <thead>\n",
       "    <tr style=\"text-align: right;\">\n",
       "      <th></th>\n",
       "      <th>Family1</th>\n",
       "      <th>Person1</th>\n",
       "      <th>Family2</th>\n",
       "      <th>Person2</th>\n",
       "    </tr>\n",
       "  </thead>\n",
       "  <tbody>\n",
       "    <tr>\n",
       "      <th>0</th>\n",
       "      <td>F0002</td>\n",
       "      <td>MID1</td>\n",
       "      <td>F0002</td>\n",
       "      <td>MID3</td>\n",
       "    </tr>\n",
       "    <tr>\n",
       "      <th>1</th>\n",
       "      <td>F0002</td>\n",
       "      <td>MID2</td>\n",
       "      <td>F0002</td>\n",
       "      <td>MID3</td>\n",
       "    </tr>\n",
       "    <tr>\n",
       "      <th>2</th>\n",
       "      <td>F0005</td>\n",
       "      <td>MID1</td>\n",
       "      <td>F0005</td>\n",
       "      <td>MID2</td>\n",
       "    </tr>\n",
       "    <tr>\n",
       "      <th>3</th>\n",
       "      <td>F0005</td>\n",
       "      <td>MID3</td>\n",
       "      <td>F0005</td>\n",
       "      <td>MID2</td>\n",
       "    </tr>\n",
       "    <tr>\n",
       "      <th>4</th>\n",
       "      <td>F0009</td>\n",
       "      <td>MID1</td>\n",
       "      <td>F0009</td>\n",
       "      <td>MID4</td>\n",
       "    </tr>\n",
       "  </tbody>\n",
       "</table>\n",
       "</div>"
      ],
      "text/plain": [
       "  Family1 Person1 Family2 Person2\n",
       "0   F0002    MID1   F0002    MID3\n",
       "1   F0002    MID2   F0002    MID3\n",
       "2   F0005    MID1   F0005    MID2\n",
       "3   F0005    MID3   F0005    MID2\n",
       "4   F0009    MID1   F0009    MID4"
      ]
     },
     "execution_count": 29,
     "metadata": {},
     "output_type": "execute_result"
    }
   ],
   "source": [
    "path1 = df[\"p1\"].str.split(\"/\", n = 1, expand = True)\n",
    "\n",
    "# making separate first name column from new data frame \n",
    "df[\"Family1\"]= path1[0]\n",
    "# making separate last name column from new data frame \n",
    "df[\"Person1\"]= path1[1]\n",
    "\n",
    "# Dropping old Name columns\n",
    "df.drop(columns =[\"p1\"], inplace = True)\n",
    "\n",
    "path2 = df[\"p2\"].str.split(\"/\", n = 1, expand = True)\n",
    "\n",
    "# making separate first name column from new data frame \n",
    "df[\"Family2\"]= path2[0]\n",
    "# making separate last name column from new data frame \n",
    "df[\"Person2\"]= path2[1]\n",
    "\n",
    "# Dropping old Name columns\n",
    "df.drop(columns =[\"p2\"], inplace = True)\n",
    "df.head()"
   ]
  },
  {
   "cell_type": "code",
   "execution_count": 31,
   "metadata": {},
   "outputs": [
    {
     "name": "stdout",
     "output_type": "stream",
     "text": [
      "236\n"
     ]
    }
   ],
   "source": [
    "root_dir = './data/train/'\n",
    "temp = []\n",
    "\n",
    "for index, row in df.iterrows():\n",
    "    dir1 = os.path.join(root_dir, row.Family1, row.Person1)\n",
    "    dir2 = os.path.join(root_dir, row.Family2, row.Person2)\n",
    "\n",
    "    dir1_exists_and_non_empty = os.path.exists(dir1) and (len(os.listdir(dir1)) > 0)\n",
    "    dir2_exists_and_non_empty = os.path.exists(dir2) and (len(os.listdir(dir2)) > 0)\n",
    "\n",
    "    if not (dir1_exists_and_non_empty and dir2_exists_and_non_empty):\n",
    "        temp.append(index)\n",
    "        \n",
    "print(len(temp))\n",
    "df = df.drop(temp, axis=0)"
   ]
  },
  {
   "cell_type": "markdown",
   "metadata": {},
   "source": [
    "NOTE: There are 231 rows with non-existent directories and 5 with empty directories. Dropped them."
   ]
  },
  {
   "cell_type": "markdown",
   "metadata": {},
   "source": [
    "### Creating Negative Pairs"
   ]
  },
  {
   "cell_type": "code",
   "execution_count": 32,
   "metadata": {},
   "outputs": [],
   "source": [
    "#A new column in the existing dataframe with all values as 1, since these people are all related\n",
    "df['Related'] = 1\n",
    "\n",
    "#Creating a dictionary, and storing members of each family\n",
    "family_dict = {}\n",
    "for index, row in df.iterrows():\n",
    "    if row['Family1'] in family_dict:\n",
    "        family_dict[row['Family1']].append(row['Person1'])\n",
    "    else:\n",
    "        family_dict[row['Family1']] = [row['Person1']]"
   ]
  },
  {
   "cell_type": "code",
   "execution_count": 33,
   "metadata": {},
   "outputs": [
    {
     "name": "stdout",
     "output_type": "stream",
     "text": [
      "Related\n",
      "1    3362\n",
      "0    1561\n",
      "Name: count, dtype: int64\n"
     ]
    }
   ],
   "source": [
    "#For each family in this dictionary, we'll first make pairs of people\n",
    "#For each pair, we'll check if they're related in our existing Dataset\n",
    "#If they're not in the dataframe, means we'll create a row with both persons and related value 0\n",
    "i=1\n",
    "for key in family_dict:\n",
    "    pair = itertools.combinations(family_dict[key], 2)\n",
    "    for item in pair:\n",
    "        if len(df[(df['Family1']==key)&(df['Person1']==item[0])&(df['Person2']==item[1])])==0 \\\n",
    "        and len(df[(df['Family1']==key)&(df['Person1']==item[1])&(df['Person2']==item[0])])==0:\n",
    "            new = {'Family1':[key], 'Person1':[item[0]], 'Family2':[key], 'Person2':[item[1]], 'Related':[0]}   # Find a better fix\n",
    "            df = pd.concat([df, pd.DataFrame(new, columns=df.columns)], ignore_index=True)\n",
    "        \n",
    "#Storing rows only where Person1 and Person2 are not same\n",
    "df = df[(df['Person1']!=df['Person2'])]\n",
    "\n",
    "print(df['Related'].value_counts())"
   ]
  },
  {
   "cell_type": "markdown",
   "metadata": {},
   "source": [
    "Balance the classes."
   ]
  },
  {
   "cell_type": "code",
   "execution_count": 34,
   "metadata": {},
   "outputs": [
    {
     "data": {
      "text/html": [
       "<div>\n",
       "<style scoped>\n",
       "    .dataframe tbody tr th:only-of-type {\n",
       "        vertical-align: middle;\n",
       "    }\n",
       "\n",
       "    .dataframe tbody tr th {\n",
       "        vertical-align: top;\n",
       "    }\n",
       "\n",
       "    .dataframe thead th {\n",
       "        text-align: right;\n",
       "    }\n",
       "</style>\n",
       "<table border=\"1\" class=\"dataframe\">\n",
       "  <thead>\n",
       "    <tr style=\"text-align: right;\">\n",
       "      <th></th>\n",
       "      <th>Family1</th>\n",
       "      <th>Person1</th>\n",
       "      <th>Family2</th>\n",
       "      <th>Person2</th>\n",
       "      <th>Related</th>\n",
       "    </tr>\n",
       "  </thead>\n",
       "  <tbody>\n",
       "    <tr>\n",
       "      <th>0</th>\n",
       "      <td>F0002</td>\n",
       "      <td>MID1</td>\n",
       "      <td>F0002</td>\n",
       "      <td>MID3</td>\n",
       "      <td>1</td>\n",
       "    </tr>\n",
       "    <tr>\n",
       "      <th>1</th>\n",
       "      <td>F0002</td>\n",
       "      <td>MID2</td>\n",
       "      <td>F0002</td>\n",
       "      <td>MID3</td>\n",
       "      <td>1</td>\n",
       "    </tr>\n",
       "    <tr>\n",
       "      <th>2</th>\n",
       "      <td>F0005</td>\n",
       "      <td>MID1</td>\n",
       "      <td>F0005</td>\n",
       "      <td>MID2</td>\n",
       "      <td>1</td>\n",
       "    </tr>\n",
       "    <tr>\n",
       "      <th>3</th>\n",
       "      <td>F0005</td>\n",
       "      <td>MID3</td>\n",
       "      <td>F0005</td>\n",
       "      <td>MID2</td>\n",
       "      <td>1</td>\n",
       "    </tr>\n",
       "    <tr>\n",
       "      <th>4</th>\n",
       "      <td>F0009</td>\n",
       "      <td>MID1</td>\n",
       "      <td>F0009</td>\n",
       "      <td>MID4</td>\n",
       "      <td>1</td>\n",
       "    </tr>\n",
       "    <tr>\n",
       "      <th>...</th>\n",
       "      <td>...</td>\n",
       "      <td>...</td>\n",
       "      <td>...</td>\n",
       "      <td>...</td>\n",
       "      <td>...</td>\n",
       "    </tr>\n",
       "    <tr>\n",
       "      <th>5827</th>\n",
       "      <td>F1000</td>\n",
       "      <td>MID2</td>\n",
       "      <td>F1000</td>\n",
       "      <td>MID7</td>\n",
       "      <td>0</td>\n",
       "    </tr>\n",
       "    <tr>\n",
       "      <th>5828</th>\n",
       "      <td>F1000</td>\n",
       "      <td>MID3</td>\n",
       "      <td>F1000</td>\n",
       "      <td>MID7</td>\n",
       "      <td>0</td>\n",
       "    </tr>\n",
       "    <tr>\n",
       "      <th>5830</th>\n",
       "      <td>F1000</td>\n",
       "      <td>MID4</td>\n",
       "      <td>F1000</td>\n",
       "      <td>MID5</td>\n",
       "      <td>0</td>\n",
       "    </tr>\n",
       "    <tr>\n",
       "      <th>5832</th>\n",
       "      <td>F1000</td>\n",
       "      <td>MID5</td>\n",
       "      <td>F1000</td>\n",
       "      <td>MID6</td>\n",
       "      <td>0</td>\n",
       "    </tr>\n",
       "    <tr>\n",
       "      <th>5833</th>\n",
       "      <td>F1000</td>\n",
       "      <td>MID6</td>\n",
       "      <td>F1000</td>\n",
       "      <td>MID7</td>\n",
       "      <td>0</td>\n",
       "    </tr>\n",
       "  </tbody>\n",
       "</table>\n",
       "<p>4923 rows × 5 columns</p>\n",
       "</div>"
      ],
      "text/plain": [
       "     Family1 Person1 Family2 Person2  Related\n",
       "0      F0002    MID1   F0002    MID3        1\n",
       "1      F0002    MID2   F0002    MID3        1\n",
       "2      F0005    MID1   F0005    MID2        1\n",
       "3      F0005    MID3   F0005    MID2        1\n",
       "4      F0009    MID1   F0009    MID4        1\n",
       "...      ...     ...     ...     ...      ...\n",
       "5827   F1000    MID2   F1000    MID7        0\n",
       "5828   F1000    MID3   F1000    MID7        0\n",
       "5830   F1000    MID4   F1000    MID5        0\n",
       "5832   F1000    MID5   F1000    MID6        0\n",
       "5833   F1000    MID6   F1000    MID7        0\n",
       "\n",
       "[4923 rows x 5 columns]"
      ]
     },
     "execution_count": 34,
     "metadata": {},
     "output_type": "execute_result"
    }
   ],
   "source": [
    "df"
   ]
  },
  {
   "cell_type": "code",
   "execution_count": 35,
   "metadata": {},
   "outputs": [],
   "source": [
    "extra = df['Related'].value_counts()[1]-df['Related'].value_counts()[0]\n",
    "while extra>=0:\n",
    "    rows = df.sample(n=2)\n",
    "    first = rows.iloc[0,:]\n",
    "    second = rows.iloc[1,:]\n",
    "    \n",
    "    if first.Family1!=second.Family1 and first.Family2!=second.Family2:\n",
    "        new1 = {'Family1':[first.Family1],'Person1':[first.Person1],'Family2':[second.Family1],'Person2':[second.Person1],'Related':[0]}\n",
    "        extra=extra-1\n",
    "\n",
    "        if extra==0:\n",
    "            break\n",
    "        \n",
    "        new2 = {'Family1':[first.Family2],'Person1':[first.Person2],'Family2':[second.Family2],'Person2':[second.Person2],'Related':[0]}\n",
    "        extra=extra-1\n",
    "        \n",
    "        df = pd.concat([df, pd.DataFrame(new1, columns=df.columns)], ignore_index=True)\n",
    "        df = pd.concat([df, pd.DataFrame(new2, columns=df.columns)], ignore_index=True)"
   ]
  },
  {
   "cell_type": "code",
   "execution_count": 36,
   "metadata": {},
   "outputs": [
    {
     "data": {
      "text/plain": [
       "Related\n",
       "1    3362\n",
       "0    3361\n",
       "Name: count, dtype: int64"
      ]
     },
     "execution_count": 36,
     "metadata": {},
     "output_type": "execute_result"
    }
   ],
   "source": [
    "df['Related'].value_counts()"
   ]
  },
  {
   "cell_type": "code",
   "execution_count": 37,
   "metadata": {},
   "outputs": [],
   "source": [
    "# Shuffle dataset\n",
    "df = df.sample(frac=1).reset_index(drop=True)"
   ]
  },
  {
   "cell_type": "code",
   "execution_count": 38,
   "metadata": {},
   "outputs": [
    {
     "data": {
      "text/html": [
       "<div>\n",
       "<style scoped>\n",
       "    .dataframe tbody tr th:only-of-type {\n",
       "        vertical-align: middle;\n",
       "    }\n",
       "\n",
       "    .dataframe tbody tr th {\n",
       "        vertical-align: top;\n",
       "    }\n",
       "\n",
       "    .dataframe thead th {\n",
       "        text-align: right;\n",
       "    }\n",
       "</style>\n",
       "<table border=\"1\" class=\"dataframe\">\n",
       "  <thead>\n",
       "    <tr style=\"text-align: right;\">\n",
       "      <th></th>\n",
       "      <th>Family1</th>\n",
       "      <th>Person1</th>\n",
       "      <th>Family2</th>\n",
       "      <th>Person2</th>\n",
       "      <th>Related</th>\n",
       "    </tr>\n",
       "  </thead>\n",
       "  <tbody>\n",
       "    <tr>\n",
       "      <th>0</th>\n",
       "      <td>F0227</td>\n",
       "      <td>MID4</td>\n",
       "      <td>F0227</td>\n",
       "      <td>MID3</td>\n",
       "      <td>1</td>\n",
       "    </tr>\n",
       "    <tr>\n",
       "      <th>1</th>\n",
       "      <td>F0284</td>\n",
       "      <td>MID6</td>\n",
       "      <td>F0284</td>\n",
       "      <td>MID2</td>\n",
       "      <td>1</td>\n",
       "    </tr>\n",
       "    <tr>\n",
       "      <th>2</th>\n",
       "      <td>F0601</td>\n",
       "      <td>MID13</td>\n",
       "      <td>F0601</td>\n",
       "      <td>MID25</td>\n",
       "      <td>0</td>\n",
       "    </tr>\n",
       "    <tr>\n",
       "      <th>3</th>\n",
       "      <td>F0368</td>\n",
       "      <td>MID3</td>\n",
       "      <td>F0368</td>\n",
       "      <td>MID1</td>\n",
       "      <td>1</td>\n",
       "    </tr>\n",
       "    <tr>\n",
       "      <th>4</th>\n",
       "      <td>F0974</td>\n",
       "      <td>MID7</td>\n",
       "      <td>F0974</td>\n",
       "      <td>MID6</td>\n",
       "      <td>1</td>\n",
       "    </tr>\n",
       "    <tr>\n",
       "      <th>...</th>\n",
       "      <td>...</td>\n",
       "      <td>...</td>\n",
       "      <td>...</td>\n",
       "      <td>...</td>\n",
       "      <td>...</td>\n",
       "    </tr>\n",
       "    <tr>\n",
       "      <th>6718</th>\n",
       "      <td>F0783</td>\n",
       "      <td>MID5</td>\n",
       "      <td>F0784</td>\n",
       "      <td>MID2</td>\n",
       "      <td>0</td>\n",
       "    </tr>\n",
       "    <tr>\n",
       "      <th>6719</th>\n",
       "      <td>F0717</td>\n",
       "      <td>MID3</td>\n",
       "      <td>F0393</td>\n",
       "      <td>MID2</td>\n",
       "      <td>0</td>\n",
       "    </tr>\n",
       "    <tr>\n",
       "      <th>6720</th>\n",
       "      <td>F0604</td>\n",
       "      <td>MID1</td>\n",
       "      <td>F0604</td>\n",
       "      <td>MID4</td>\n",
       "      <td>1</td>\n",
       "    </tr>\n",
       "    <tr>\n",
       "      <th>6721</th>\n",
       "      <td>F0601</td>\n",
       "      <td>MID39</td>\n",
       "      <td>F0988</td>\n",
       "      <td>MID3</td>\n",
       "      <td>0</td>\n",
       "    </tr>\n",
       "    <tr>\n",
       "      <th>6722</th>\n",
       "      <td>F0427</td>\n",
       "      <td>MID2</td>\n",
       "      <td>F0427</td>\n",
       "      <td>MID4</td>\n",
       "      <td>1</td>\n",
       "    </tr>\n",
       "  </tbody>\n",
       "</table>\n",
       "<p>6723 rows × 5 columns</p>\n",
       "</div>"
      ],
      "text/plain": [
       "     Family1 Person1 Family2 Person2  Related\n",
       "0      F0227    MID4   F0227    MID3        1\n",
       "1      F0284    MID6   F0284    MID2        1\n",
       "2      F0601   MID13   F0601   MID25        0\n",
       "3      F0368    MID3   F0368    MID1        1\n",
       "4      F0974    MID7   F0974    MID6        1\n",
       "...      ...     ...     ...     ...      ...\n",
       "6718   F0783    MID5   F0784    MID2        0\n",
       "6719   F0717    MID3   F0393    MID2        0\n",
       "6720   F0604    MID1   F0604    MID4        1\n",
       "6721   F0601   MID39   F0988    MID3        0\n",
       "6722   F0427    MID2   F0427    MID4        1\n",
       "\n",
       "[6723 rows x 5 columns]"
      ]
     },
     "execution_count": 38,
     "metadata": {},
     "output_type": "execute_result"
    }
   ],
   "source": [
    "df"
   ]
  },
  {
   "cell_type": "markdown",
   "metadata": {},
   "source": [
    "Export dataset as csv file."
   ]
  },
  {
   "cell_type": "code",
   "execution_count": 39,
   "metadata": {},
   "outputs": [],
   "source": [
    "df.to_csv(path_or_buf=\"./data/train-relationships/train_relationships_processed.csv\", index=False)"
   ]
  },
  {
   "cell_type": "markdown",
   "metadata": {},
   "source": [
    "### Processing Sample Submission File (Redundant)\n",
    "\n",
    "This will serve as our submisison template.\n",
    "\n",
    "Edit: Incorporated in dataloader."
   ]
  },
  {
   "cell_type": "code",
   "execution_count": 4,
   "metadata": {},
   "outputs": [
    {
     "data": {
      "text/html": [
       "<div>\n",
       "<style scoped>\n",
       "    .dataframe tbody tr th:only-of-type {\n",
       "        vertical-align: middle;\n",
       "    }\n",
       "\n",
       "    .dataframe tbody tr th {\n",
       "        vertical-align: top;\n",
       "    }\n",
       "\n",
       "    .dataframe thead th {\n",
       "        text-align: right;\n",
       "    }\n",
       "</style>\n",
       "<table border=\"1\" class=\"dataframe\">\n",
       "  <thead>\n",
       "    <tr style=\"text-align: right;\">\n",
       "      <th></th>\n",
       "      <th>img_pair</th>\n",
       "      <th>is_related</th>\n",
       "    </tr>\n",
       "  </thead>\n",
       "  <tbody>\n",
       "    <tr>\n",
       "      <th>0</th>\n",
       "      <td>face05508.jpg-face01210.jpg</td>\n",
       "      <td>0</td>\n",
       "    </tr>\n",
       "    <tr>\n",
       "      <th>1</th>\n",
       "      <td>face05750.jpg-face00898.jpg</td>\n",
       "      <td>0</td>\n",
       "    </tr>\n",
       "    <tr>\n",
       "      <th>2</th>\n",
       "      <td>face05820.jpg-face03938.jpg</td>\n",
       "      <td>0</td>\n",
       "    </tr>\n",
       "    <tr>\n",
       "      <th>3</th>\n",
       "      <td>face02104.jpg-face01172.jpg</td>\n",
       "      <td>0</td>\n",
       "    </tr>\n",
       "    <tr>\n",
       "      <th>4</th>\n",
       "      <td>face02428.jpg-face05611.jpg</td>\n",
       "      <td>0</td>\n",
       "    </tr>\n",
       "  </tbody>\n",
       "</table>\n",
       "</div>"
      ],
      "text/plain": [
       "                      img_pair  is_related\n",
       "0  face05508.jpg-face01210.jpg           0\n",
       "1  face05750.jpg-face00898.jpg           0\n",
       "2  face05820.jpg-face03938.jpg           0\n",
       "3  face02104.jpg-face01172.jpg           0\n",
       "4  face02428.jpg-face05611.jpg           0"
      ]
     },
     "execution_count": 4,
     "metadata": {},
     "output_type": "execute_result"
    }
   ],
   "source": [
    "sub = pd.read_csv(\"./data/submissions/sample_submission.csv\")\n",
    "sub.head()"
   ]
  },
  {
   "cell_type": "code",
   "execution_count": 6,
   "metadata": {},
   "outputs": [
    {
     "data": {
      "text/plain": [
       "numpy.int64"
      ]
     },
     "execution_count": 6,
     "metadata": {},
     "output_type": "execute_result"
    }
   ],
   "source": [
    "type(sub['is_related'][1])"
   ]
  },
  {
   "cell_type": "code",
   "execution_count": 28,
   "metadata": {},
   "outputs": [
    {
     "name": "stdout",
     "output_type": "stream",
     "text": [
      "                  0              1\n",
      "0     face05508.jpg  face01210.jpg\n",
      "1     face05750.jpg  face00898.jpg\n",
      "2     face05820.jpg  face03938.jpg\n",
      "3     face02104.jpg  face01172.jpg\n",
      "4     face02428.jpg  face05611.jpg\n",
      "...             ...            ...\n",
      "5305  face99998.jpg  face99993.jpg\n",
      "5306  face99997.jpg  face99996.jpg\n",
      "5307  face99997.jpg  face99995.jpg\n",
      "5308  face99997.jpg  face99994.jpg\n",
      "5309  face99997.jpg  face99993.jpg\n",
      "\n",
      "[5310 rows x 2 columns]\n"
     ]
    },
    {
     "data": {
      "text/html": [
       "<div>\n",
       "<style scoped>\n",
       "    .dataframe tbody tr th:only-of-type {\n",
       "        vertical-align: middle;\n",
       "    }\n",
       "\n",
       "    .dataframe tbody tr th {\n",
       "        vertical-align: top;\n",
       "    }\n",
       "\n",
       "    .dataframe thead th {\n",
       "        text-align: right;\n",
       "    }\n",
       "</style>\n",
       "<table border=\"1\" class=\"dataframe\">\n",
       "  <thead>\n",
       "    <tr style=\"text-align: right;\">\n",
       "      <th></th>\n",
       "      <th>img_pair</th>\n",
       "      <th>is_related</th>\n",
       "      <th>Person1</th>\n",
       "      <th>Person2</th>\n",
       "    </tr>\n",
       "  </thead>\n",
       "  <tbody>\n",
       "    <tr>\n",
       "      <th>0</th>\n",
       "      <td>face05508.jpg-face01210.jpg</td>\n",
       "      <td>0</td>\n",
       "      <td>face05508.jpg</td>\n",
       "      <td>face01210.jpg</td>\n",
       "    </tr>\n",
       "    <tr>\n",
       "      <th>1</th>\n",
       "      <td>face05750.jpg-face00898.jpg</td>\n",
       "      <td>0</td>\n",
       "      <td>face05750.jpg</td>\n",
       "      <td>face00898.jpg</td>\n",
       "    </tr>\n",
       "    <tr>\n",
       "      <th>2</th>\n",
       "      <td>face05820.jpg-face03938.jpg</td>\n",
       "      <td>0</td>\n",
       "      <td>face05820.jpg</td>\n",
       "      <td>face03938.jpg</td>\n",
       "    </tr>\n",
       "    <tr>\n",
       "      <th>3</th>\n",
       "      <td>face02104.jpg-face01172.jpg</td>\n",
       "      <td>0</td>\n",
       "      <td>face02104.jpg</td>\n",
       "      <td>face01172.jpg</td>\n",
       "    </tr>\n",
       "    <tr>\n",
       "      <th>4</th>\n",
       "      <td>face02428.jpg-face05611.jpg</td>\n",
       "      <td>0</td>\n",
       "      <td>face02428.jpg</td>\n",
       "      <td>face05611.jpg</td>\n",
       "    </tr>\n",
       "  </tbody>\n",
       "</table>\n",
       "</div>"
      ],
      "text/plain": [
       "                      img_pair  is_related        Person1        Person2\n",
       "0  face05508.jpg-face01210.jpg           0  face05508.jpg  face01210.jpg\n",
       "1  face05750.jpg-face00898.jpg           0  face05750.jpg  face00898.jpg\n",
       "2  face05820.jpg-face03938.jpg           0  face05820.jpg  face03938.jpg\n",
       "3  face02104.jpg-face01172.jpg           0  face02104.jpg  face01172.jpg\n",
       "4  face02428.jpg-face05611.jpg           0  face02428.jpg  face05611.jpg"
      ]
     },
     "execution_count": 28,
     "metadata": {},
     "output_type": "execute_result"
    }
   ],
   "source": [
    "images = sub[\"img_pair\"].str.split(\"-\", n=1, expand=True)\n",
    "\n",
    "# making separate first name column from new data frame \n",
    "sub[\"Person1\"]= images[0]\n",
    "# making separate last name column from new data frame \n",
    "sub[\"Person2\"]= images[1]\n",
    "\n",
    "# Dropping old Name columns\n",
    "sub.head()"
   ]
  },
  {
   "cell_type": "markdown",
   "metadata": {},
   "source": [
    "### Float adjustment\n",
    "\n",
    "The submission is ranked based on the AUC nor accuracy. Hence ensure the 'is_related' column are saved as floats for better precision."
   ]
  },
  {
   "cell_type": "code",
   "execution_count": 8,
   "metadata": {},
   "outputs": [
    {
     "data": {
      "text/plain": [
       "numpy.int64"
      ]
     },
     "execution_count": 8,
     "metadata": {},
     "output_type": "execute_result"
    }
   ],
   "source": [
    "x = pd.read_csv(\"./data/submissions/test_submission.csv\")\n",
    "type(x['is_related'][1])"
   ]
  },
  {
   "cell_type": "code",
   "execution_count": 9,
   "metadata": {},
   "outputs": [
    {
     "data": {
      "text/plain": [
       "numpy.float64"
      ]
     },
     "execution_count": 9,
     "metadata": {},
     "output_type": "execute_result"
    }
   ],
   "source": [
    "x['is_related'] = x['is_related'].astype(float)\n",
    "type(x['is_related'][1])"
   ]
  },
  {
   "cell_type": "code",
   "execution_count": 10,
   "metadata": {},
   "outputs": [],
   "source": [
    "x.to_csv(path_or_buf=\"./data/submissions/test_submission_processed.csv\", index=False)"
   ]
  },
  {
   "cell_type": "code",
   "execution_count": null,
   "metadata": {},
   "outputs": [],
   "source": []
  }
 ],
 "metadata": {
  "kernelspec": {
   "display_name": "cz4041",
   "language": "python",
   "name": "python3"
  },
  "language_info": {
   "codemirror_mode": {
    "name": "ipython",
    "version": 3
   },
   "file_extension": ".py",
   "mimetype": "text/x-python",
   "name": "python",
   "nbconvert_exporter": "python",
   "pygments_lexer": "ipython3",
   "version": "3.11.5"
  },
  "orig_nbformat": 4
 },
 "nbformat": 4,
 "nbformat_minor": 2
}
